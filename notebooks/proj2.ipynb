{
 "cells": [
  {
   "cell_type": "code",
   "execution_count": 1,
   "id": "5718bd68",
   "metadata": {
    "ExecuteTime": {
     "end_time": "2023-12-23T13:55:23.817421691Z",
     "start_time": "2023-12-23T13:55:21.003503994Z"
    }
   },
   "outputs": [],
   "source": [
    "from bs4 import BeautifulSoup\n",
    "import pandas as pd\n",
    "import numpy as np\n",
    "import spacy\n",
    "import json\n",
    "import scipy\n",
    "\n",
    "pd.set_option('display.max_rows', 500)\n",
    "pd.set_option('display.max_colwidth', None)"
   ]
  },
  {
   "cell_type": "code",
   "execution_count": 2,
   "id": "2d763b89",
   "metadata": {
    "scrolled": false,
    "ExecuteTime": {
     "end_time": "2023-12-23T13:55:25.648967998Z",
     "start_time": "2023-12-23T13:55:25.082751380Z"
    }
   },
   "outputs": [
    {
     "name": "stderr",
     "output_type": "stream",
     "text": [
      "/tmp/ipykernel_13184/418844585.py:2: DtypeWarning: Columns (1) have mixed types. Specify dtype option on import or set low_memory=False.\n",
      "  df = next(df_vacancy_iter)\n"
     ]
    }
   ],
   "source": [
    "df_vacancy_iter = pd.read_csv('../data/raw/vacancy.csv', sep='|', chunksize=10000, iterator=True)\n",
    "df = next(df_vacancy_iter)"
   ]
  },
  {
   "cell_type": "code",
   "execution_count": 3,
   "id": "b2c681e2",
   "metadata": {
    "ExecuteTime": {
     "end_time": "2023-12-23T13:55:27.440479377Z",
     "start_time": "2023-12-23T13:55:27.373577682Z"
    }
   },
   "outputs": [],
   "source": [
    "df['hard_skill_name'] = [' '.join([s['hard_skill_name'] for s in json.loads(row)]) for row in json.loads(df['hardSkills'].to_json()).values()]\n",
    "df['vacancy_name'] = df['vacancy_name'].fillna('')\n",
    "df['position_requirements'] = df['position_requirements'].fillna('')\n",
    "df['position_responsibilities'] = df['position_responsibilities'].fillna('')"
   ]
  },
  {
   "cell_type": "code",
   "execution_count": 4,
   "id": "3424c66b",
   "metadata": {
    "ExecuteTime": {
     "end_time": "2023-12-23T13:55:29.174557657Z",
     "start_time": "2023-12-23T13:55:28.965821798Z"
    }
   },
   "outputs": [],
   "source": [
    "df['all_text'] = df.apply(\n",
    "    lambda row: ' '.join(\n",
    "        filter(lambda x: pd.notna(x) and x != '',\n",
    "               [row['vacancy_name'], row['position_requirements'],\n",
    "                row['position_responsibilities'], row['hard_skill_name']])\n",
    "    ),\n",
    "    axis=1\n",
    ")"
   ]
  },
  {
   "cell_type": "code",
   "execution_count": 5,
   "id": "d151566b",
   "metadata": {
    "ExecuteTime": {
     "end_time": "2023-12-23T13:55:30.775338472Z",
     "start_time": "2023-12-23T13:55:30.765300061Z"
    }
   },
   "outputs": [],
   "source": [
    "def remove_html_tags(text):\n",
    "    soup = BeautifulSoup(text, 'html.parser')\n",
    "    clean_text = soup.get_text(separator=' ')\n",
    "    return clean_text"
   ]
  },
  {
   "cell_type": "code",
   "execution_count": 6,
   "id": "20de14aa",
   "metadata": {
    "ExecuteTime": {
     "end_time": "2023-12-23T13:55:33.167919197Z",
     "start_time": "2023-12-23T13:55:31.146023909Z"
    }
   },
   "outputs": [
    {
     "name": "stderr",
     "output_type": "stream",
     "text": [
      "/tmp/ipykernel_13184/659254113.py:2: MarkupResemblesLocatorWarning: The input looks more like a filename than markup. You may want to open this file and pass the filehandle into Beautiful Soup.\n",
      "  soup = BeautifulSoup(text, 'html.parser')\n"
     ]
    }
   ],
   "source": [
    "df['all_text'] = df['all_text'].apply(remove_html_tags)"
   ]
  },
  {
   "cell_type": "code",
   "execution_count": 7,
   "id": "2693456a",
   "metadata": {
    "ExecuteTime": {
     "end_time": "2023-12-23T13:55:35.044235717Z",
     "start_time": "2023-12-23T13:55:33.759157389Z"
    }
   },
   "outputs": [],
   "source": [
    "nlp = spacy.load(\"ru_core_news_sm\")"
   ]
  },
  {
   "cell_type": "code",
   "execution_count": 8,
   "id": "95916b01",
   "metadata": {
    "scrolled": true,
    "ExecuteTime": {
     "end_time": "2023-12-23T13:58:56.251861098Z",
     "start_time": "2023-12-23T13:55:35.235024938Z"
    }
   },
   "outputs": [
    {
     "name": "stdout",
     "output_type": "stream",
     "text": [
      "CPU times: user 3min 20s, sys: 52.4 ms, total: 3min 20s\n",
      "Wall time: 3min 20s\n"
     ]
    }
   ],
   "source": [
    "%%time\n",
    "\n",
    "df['cleaned_text']  = df['all_text'].apply(\n",
    "    lambda x: ' '.join(\n",
    "        token.lemma_.lower() for token in nlp(x) if\n",
    "        not token.is_punct\n",
    "        and not token.is_space\n",
    "    )\n",
    ")"
   ]
  },
  {
   "cell_type": "markdown",
   "id": "c33054ad",
   "metadata": {},
   "source": [
    "## CV"
   ]
  },
  {
   "cell_type": "code",
   "execution_count": 9,
   "id": "3ea2678b",
   "metadata": {
    "ExecuteTime": {
     "end_time": "2023-12-23T13:59:11.575637300Z",
     "start_time": "2023-12-23T13:59:11.318412470Z"
    }
   },
   "outputs": [],
   "source": [
    "df_cv_iter = pd.read_csv('../data/raw/cv.csv', sep='|', chunksize=10000, on_bad_lines = 'skip', iterator=True)\n",
    "df_cv = next(df_cv_iter)"
   ]
  },
  {
   "cell_type": "code",
   "execution_count": 10,
   "id": "4c243240",
   "metadata": {
    "ExecuteTime": {
     "end_time": "2023-12-23T13:59:12.626135553Z",
     "start_time": "2023-12-23T13:59:12.536983023Z"
    }
   },
   "outputs": [],
   "source": [
    "\n",
    "work_experience_list = json.loads(df_cv['workExperienceList'].to_json())\n",
    "work_experience = []\n",
    "\n",
    "for row in work_experience_list.values():\n",
    "    if row != '[]':\n",
    "        current_formatted = []\n",
    "        for s in json.loads(row):\n",
    "            job_title = s.get('jobTitle', '')\n",
    "            demands = s.get('demands', '')\n",
    "            current_formatted.append(f\"{job_title} {demands}\")\n",
    "        work_experience.append(' '.join(current_formatted))\n",
    "    else:\n",
    "        work_experience.append('')\n",
    "\n",
    "        \n",
    "edu_list = json.loads(df_cv['educationList'].to_json())\n",
    "edu = []\n",
    "\n",
    "for row in edu_list.values():\n",
    "    if row != '[]':\n",
    "        current_formatted = []\n",
    "        for s in json.loads(row):\n",
    "            faculty = s.get('faculty', '')\n",
    "            qualification = s.get('qualification', '')\n",
    "            current_formatted.append(f\"{faculty} {qualification}\")\n",
    "        edu.append(' '.join(current_formatted))\n",
    "    else:\n",
    "        edu.append('')"
   ]
  },
  {
   "cell_type": "code",
   "execution_count": 11,
   "id": "3c6bc1ba",
   "metadata": {
    "scrolled": true,
    "ExecuteTime": {
     "end_time": "2023-12-23T13:59:13.220905939Z",
     "start_time": "2023-12-23T13:59:13.207524412Z"
    }
   },
   "outputs": [],
   "source": [
    "df_cv['hardSkills'] = [' '.join([s['hardSkillName'] for s in json.loads(row)]) for row in json.loads(df_cv['hardSkills'].to_json()).values()]\n",
    "df_cv['softSkills'] = [' '.join([s['softSkillName'] for s in json.loads(row)]) for row in json.loads(df_cv['softSkills'].to_json()).values()]\n",
    "df_cv['workExperienceList'] = work_experience\n",
    "df_cv['positionName'] = df_cv['positionName'].fillna('')\n",
    "df_cv['educationList'] = edu"
   ]
  },
  {
   "cell_type": "code",
   "execution_count": 12,
   "id": "3cb92fed",
   "metadata": {
    "ExecuteTime": {
     "end_time": "2023-12-23T13:59:13.958013335Z",
     "start_time": "2023-12-23T13:59:13.813532348Z"
    }
   },
   "outputs": [],
   "source": [
    "df_cv['all_text'] = df_cv.apply(\n",
    "    lambda row: ' '.join(\n",
    "        filter(lambda x: pd.notna(x) and x != '',\n",
    "               [row['hardSkills'], row['softSkills'],\n",
    "                row['workExperienceList'], row['positionName'],\n",
    "               row['educationList']])\n",
    "    ),\n",
    "    axis=1\n",
    ")"
   ]
  },
  {
   "cell_type": "code",
   "execution_count": 13,
   "id": "e97306b4",
   "metadata": {
    "ExecuteTime": {
     "end_time": "2023-12-23T13:59:15.749434482Z",
     "start_time": "2023-12-23T13:59:14.922677100Z"
    }
   },
   "outputs": [
    {
     "name": "stderr",
     "output_type": "stream",
     "text": [
      "/tmp/ipykernel_13184/659254113.py:2: MarkupResemblesLocatorWarning: The input looks more like a filename than markup. You may want to open this file and pass the filehandle into Beautiful Soup.\n",
      "  soup = BeautifulSoup(text, 'html.parser')\n"
     ]
    }
   ],
   "source": [
    "df_cv['all_text'] = df_cv['all_text'].apply(remove_html_tags)"
   ]
  },
  {
   "cell_type": "code",
   "execution_count": 14,
   "id": "668ee387",
   "metadata": {
    "ExecuteTime": {
     "end_time": "2023-12-23T14:01:15.364944595Z",
     "start_time": "2023-12-23T13:59:16.371227460Z"
    }
   },
   "outputs": [
    {
     "name": "stdout",
     "output_type": "stream",
     "text": [
      "CPU times: user 1min 58s, sys: 7.86 ms, total: 1min 58s\n",
      "Wall time: 1min 58s\n"
     ]
    }
   ],
   "source": [
    "%%time\n",
    "\n",
    "df_cv['cleaned_text']  = df_cv['all_text'].apply(\n",
    "    lambda x: ' '.join(\n",
    "        token.lemma_.lower() for token in nlp(x) if\n",
    "        not token.is_punct\n",
    "        and not token.is_space\n",
    "    )\n",
    ")"
   ]
  },
  {
   "cell_type": "markdown",
   "id": "0cbd43a7",
   "metadata": {},
   "source": [
    "## TF-IDF"
   ]
  },
  {
   "cell_type": "code",
   "execution_count": 15,
   "id": "f52455b2",
   "metadata": {
    "ExecuteTime": {
     "end_time": "2023-12-23T14:01:41.111981638Z",
     "start_time": "2023-12-23T14:01:40.100935131Z"
    }
   },
   "outputs": [],
   "source": [
    "from sklearn.feature_extraction.text import TfidfVectorizer\n",
    "\n",
    "# Example data (replace this with your actual data)\n",
    "cv_corpus = df_cv['cleaned_text'].to_list()\n",
    "vacancy_corpus = df['cleaned_text'].to_list()\n",
    "\n",
    "# Combine query and passage for vectorization\n",
    "all_text = cv_corpus + vacancy_corpus\n",
    "\n",
    "# Create the TfidfVectorizer\n",
    "vectorizer = TfidfVectorizer()\n",
    "\n",
    "# Fit and transform the text data\n",
    "tfidf_matrix = vectorizer.fit_transform(all_text)\n",
    "\n",
    "# Get the TF-IDF embeddings for query and passage\n",
    "cv_tfidf = tfidf_matrix[:len(cv_corpus)]\n",
    "vacancy_tfidf = tfidf_matrix[len(cv_corpus):]"
   ]
  },
  {
   "cell_type": "code",
   "outputs": [],
   "source": [
    "# scipy.sparse.save_npz(\"../data/data_vectors/cv_tfidf.npz\", cv_tfidf)\n",
    "# scipy.sparse.save_npz(\"../data/data_vectors/vacancy_tfidf.npz\", vacancy_tfidf)"
   ],
   "metadata": {
    "collapsed": false,
    "ExecuteTime": {
     "end_time": "2023-12-23T13:51:51.913449889Z",
     "start_time": "2023-12-23T13:51:51.626023366Z"
    }
   },
   "id": "2212ae4a2862a60e",
   "execution_count": 33
  },
  {
   "cell_type": "code",
   "execution_count": 400,
   "id": "8bdabd00",
   "metadata": {},
   "outputs": [
    {
     "name": "stdout",
     "output_type": "stream",
     "text": [
      "[[0.         0.         0.00290805 ... 0.02118609 0.         0.        ]\n",
      " [0.         0.         0.         ... 0.         0.         0.        ]\n",
      " [0.03870266 0.         0.         ... 0.         0.         0.        ]\n",
      " ...\n",
      " [0.05128472 0.01381252 0.01201967 ... 0.1222886  0.         0.0293709 ]\n",
      " [0.04902231 0.         0.         ... 0.         0.         0.        ]\n",
      " [0.         0.         0.         ... 0.         0.         0.        ]]\n"
     ]
    }
   ],
   "source": [
    "from sklearn.metrics.pairwise import cosine_similarity\n",
    "\n",
    "# Calculate cosine similarity between query and passage TF-IDF embeddings\n",
    "similarity_scores = cosine_similarity(cv_tfidf, vacancy_tfidf)\n",
    "\n",
    "# Print or use the similarity scores as needed\n",
    "print(similarity_scores)"
   ]
  },
  {
   "cell_type": "code",
   "execution_count": 2,
   "id": "f82858fb",
   "metadata": {},
   "outputs": [],
   "source": [
    "import pandas as pd"
   ]
  },
  {
   "cell_type": "code",
   "execution_count": 3,
   "id": "ba7ba697",
   "metadata": {},
   "outputs": [],
   "source": [
    "similarity_df = pd.read_csv('td_idf_similarity_scores.csv')"
   ]
  },
  {
   "cell_type": "code",
   "execution_count": 452,
   "id": "1265b3c0",
   "metadata": {},
   "outputs": [],
   "source": [
    "similarity_df = pd.DataFrame(similarity_scores)\n",
    "similarity_df.to_csv('td_idf_similarity_scores.csv', index=False)"
   ]
  },
  {
   "cell_type": "code",
   "execution_count": 419,
   "id": "cee6f5fb",
   "metadata": {
    "scrolled": true
   },
   "outputs": [
    {
     "data": {
      "text/plain": [
       "9995    6552\n",
       "9996      60\n",
       "9997    3026\n",
       "9998     186\n",
       "9999    3439\n",
       "Name: 0, dtype: int64"
      ]
     },
     "execution_count": 419,
     "metadata": {},
     "output_type": "execute_result"
    }
   ],
   "source": [
    "np.argsort(similarity_df.iloc[0,:])[-k:]"
   ]
  },
  {
   "cell_type": "code",
   "execution_count": 440,
   "id": "61673396",
   "metadata": {},
   "outputs": [
    {
     "data": {
      "text/plain": [
       "Index(['id', 'candidateId', 'stateRegionCode', 'locality', 'localityName',\n",
       "       'birthday', 'gender', 'age', 'positionName', 'dateCreate', 'dateModify',\n",
       "       'publishedDate', 'academicDegree', 'worldskills',\n",
       "       'worldskillsInspectionStatus', 'abilympicsInspectionStatus',\n",
       "       'abilympicsParticipation', 'volunteersInspectionStatus',\n",
       "       'volunteersParticipation', 'driveLicenses', 'experience',\n",
       "       'professionsList', 'otherCertificates', 'narkCertificate',\n",
       "       'narkInspectionStatus', 'codeExternalSystem', 'country',\n",
       "       'educationList', 'additionalEducationList', 'hardSkills', 'softSkills',\n",
       "       'workExperienceList', 'scheduleType', 'salary', 'busyType',\n",
       "       'retrainingCapability', 'businessTrip', 'languageKnowledge',\n",
       "       'relocation', 'innerInfo', 'all_text', 'cleaned_text'],\n",
       "      dtype='object')"
      ]
     },
     "execution_count": 440,
     "metadata": {},
     "output_type": "execute_result"
    }
   ],
   "source": [
    "df_cv.columns"
   ]
  },
  {
   "cell_type": "code",
   "execution_count": 447,
   "id": "e9977929",
   "metadata": {},
   "outputs": [
    {
     "data": {
      "text/plain": [
       "'стрессоустойчивость руководитель направление группа по административный лицензионный деятельность и информационный поддержка технический поддержка microsoft windows server sql server windows pro microsoft office 1c предприятие kaspersky security center криптопро csp фсс арм лпу гпб дилинг банк клиенты гарант проксима kerio control pfsense vpn active directory exchange vmware esxi hyper v zabbix asterisk urbackup raid онлайн спринтер такском офд такском касса эдо контур диадок контур маркировка мдлп емиас егисз фрмо hikvision ivms-4200 medins amb doc этп обслуживание парк арм оргтехники vpn канал на 3 офис закупка комплектующих расходный материал хранение тмц инвентаризация замена фискальный накопитель обновление прайс лист кассовый аппарат ярус м2100ф mspos d ф sunmi p2pro установка лимит контроль расход выдача sim карта корпоративный мобильный связь мтс обновление контент корпоративный сайт на cms 1с битрикс участие в тендер загрузка документ на этп подача заявление через госуслуга получение лицензия заключение договор оплата ит счёт взаимодействие с контрагент обмен оригинал через эдо планирование бюджет ит контроль за выполнение разработка отчёт презентация для руководство руководитель направление группа информационный технология администрирование microsoft windows server 2008 r2 2012 2016 sql server 2008 r2 2017 windows 7 8.1 10 1c предприятие 7.7 8.2 8.3 бухгалтерия зуп kaspersky security center endpoint security криптопро csp криптоарм фсс арм лпу atc panasonic kx tda100 asterisk 1с битрикс cms технический поддержка microsoft office standard 2010 2016 2019 гпб дилинг банк клиенты сбербанк газпромбанк аб россия консультант плюс гарант проксима мис инфодент касса ярус м2100ф mspos d ф sunmi p2pro управление доступ kerio control pfsense vpn rdp tcp ip dhcp vlan active directory vmware esxi hyper v zabbix urbackup онлайн спринтер такском офд такском касса контур маркировка мдлп емиас егисз контур диадок эдо системный администратор администрирование почтовый сервер монтаж сеть настройка сетевой оборудование voip телефония установка ос прикладного по технический поддержка пользователь оперативный реагирование на заявка обновление контент seo продвижение контекстный реклама корпоративный сайт контроль за технический работа подрядчик системный администратор прикладной математика и физик инженер математик иностранный язык лингвист переводчик'"
      ]
     },
     "execution_count": 447,
     "metadata": {},
     "output_type": "execute_result"
    }
   ],
   "source": [
    "i = 1000\n",
    "cv_corpus[i]"
   ]
  },
  {
   "cell_type": "code",
   "execution_count": 448,
   "id": "ead1bf5e",
   "metadata": {
    "scrolled": false
   },
   "outputs": [
    {
     "data": {
      "text/plain": [
       "8345                                                                                                                                                                                                                                                                     администратор вычислительный сеть опыт администрирование линейка windows ad ts gpo rdp dhcp dns ms sql 1c опыт настройка локальный сеть сетевой оборудование знание основа прокладка лвс удалить доступ администрирование windows администрирование инфраструктура windows ad ts gpo rdp dhcp dns ms sql 1c администрирование система виртуализации ms hyper v обеспечение работа активный сетевой оборудование корпоративный антивирусный система создание архивный копия мониторинг инфраструктура компания организация доступ удалённый пользователь vpn\n",
       "7784    системный администратор администрирование сервер на база microsoft windows linux администрирование и настройка dns dhcp active directory dfs.настройка ip телефония на база mango office настройка vpn канал настройка и технический поддержка почтовый сервер smtp pop imap.поддержка программный решение для автоматизация бизнес процессов с использование php js html css mysql и др. настройка и поддержка антивирусный система опыт работа с etoken рутокен администрирование сервер на база microsoft windows linux администрирование и настройка dns dhcp active directory dfs.настройка ip телефония на база cisco настройка vpn канал настройка и технический поддержка почтовый сервер smtp pop imap.поддержка программный решение для автоматизация бизнес процессов с использование php js html css mysql и др.\n",
       "6716                                                                                                                           системный администратор высокий профессиональный технический образование опыт работа с телекоммуникационный оборудование eltex juniper система видеоконференцсвязи с виртуальный среда vmware esxi xen server скзи опыт администрирование линейка windows от 7 до 11 linux альт 8 сп и windows server 2008/2012r2/201у компетенция linux apache active directory asterisk dns dhcp otrs администрировать ит инфраструктура и серверный оборудование работать с группа безопасность active directory осуществлять технический обеспечение вкс настраивать автоматизированный рабочий место пользователь устранять обнаружить неполадка на рабочий место и оказывать технический поддержка пользователь\n",
       "Name: cleaned_text, dtype: object"
      ]
     },
     "execution_count": 448,
     "metadata": {},
     "output_type": "execute_result"
    }
   ],
   "source": [
    "k = 3\n",
    "topk = np.argsort(similarity_scores[i])[-k:]\n",
    "df['cleaned_text'][topk]"
   ]
  },
  {
   "cell_type": "markdown",
   "id": "313bd2d5",
   "metadata": {},
   "source": [
    "## rubert-tiny2"
   ]
  },
  {
   "cell_type": "code",
   "execution_count": 16,
   "id": "e5861c63",
   "metadata": {
    "ExecuteTime": {
     "end_time": "2023-12-23T14:04:07.264440545Z",
     "start_time": "2023-12-23T14:01:50.626728854Z"
    }
   },
   "outputs": [],
   "source": [
    "from sentence_transformers import SentenceTransformer\n",
    "model = SentenceTransformer('cointegrated/rubert-tiny2')\n",
    "\n",
    "rubert_cv = model.encode(cv_corpus)\n",
    "rubert_vacancy = model.encode(vacancy_corpus)"
   ]
  },
  {
   "cell_type": "code",
   "outputs": [],
   "source": [
    "# np.save(\"../data/data_vectors/cv_rubert\", rubert_cv)\n",
    "np.save(\"../data/data_vectors/vacancy_rubert\", rubert_vacancy)"
   ],
   "metadata": {
    "collapsed": false,
    "ExecuteTime": {
     "end_time": "2023-12-23T14:11:38.124909694Z",
     "start_time": "2023-12-23T14:11:38.081323400Z"
    }
   },
   "id": "51a90fbb6ecda919",
   "execution_count": 24
  },
  {
   "cell_type": "code",
   "execution_count": 455,
   "id": "2f821488",
   "metadata": {},
   "outputs": [],
   "source": [
    "similarity_scores_bert = cosine_similarity(rubert_cv, rubert_vacancy)"
   ]
  },
  {
   "cell_type": "code",
   "execution_count": 456,
   "id": "b5ec470c",
   "metadata": {},
   "outputs": [],
   "source": [
    "similarity_df_bert = pd.DataFrame(similarity_scores_bert)\n",
    "similarity_df_bert.to_csv('bert_similarity_scores.csv', index=False)"
   ]
  },
  {
   "cell_type": "code",
   "execution_count": 457,
   "id": "f952e660",
   "metadata": {
    "scrolled": true
   },
   "outputs": [
    {
     "data": {
      "text/plain": [
       "5939                                                                                                                                                                                                                                                                                                                                                                                                                                       тестировщик наш стек backend php 7.4 8.1 laravel framework mysql postgresql redis rabbitmq elasticsearch rest api graphql frontend typescript react react native next.js express redux storybook tools git docker jenkins jira confluence swagger discord allure miro figma monitoring kibana zabbix grafana чего мы ждем умение работать с postman charles или с иными аналогичный инструмент навык работа с инструмент разработчик в браузер командный строка знание и понимание основный принцип работа мобильный приложение и сайт уверенный значение техник тест дизайн и умение применять их на практика понимание основа работа клиент серверный приложение развитой навык коммуникация с пользователь и разработчик на они язык наличие системный мышление и структурированный подход к решение задача высокий самоорганизованность тестирование отображение вёрстка на различный устройство и разрешение функциональный и регрессионный тестирование backend frontend веб мобильный приложение api ведение тестовый документация тест план тест кейсы чек лист поддержание тестовый документация в актуальный состояние документирование и анализ найти дефект и результат тестирование взаимодействие с команда проджект аналитик дизайнер разработчик и ключевой пользователь принятие совместный решение по улучшение приложение анализ требование аналитик макет\n",
       "7784                                                                                                                                                                                                                                                                                                                                                                                                                                                                                                                                                                                                                                                                                                                                                                                                                                                                                                                                                                                        системный администратор администрирование сервер на база microsoft windows linux администрирование и настройка dns dhcp active directory dfs.настройка ip телефония на база mango office настройка vpn канал настройка и технический поддержка почтовый сервер smtp pop imap.поддержка программный решение для автоматизация бизнес процессов с использование php js html css mysql и др. настройка и поддержка антивирусный система опыт работа с etoken рутокен администрирование сервер на база microsoft windows linux администрирование и настройка dns dhcp active directory dfs.настройка ip телефония на база cisco настройка vpn канал настройка и технический поддержка почтовый сервер smtp pop imap.поддержка программный решение для автоматизация бизнес процессов с использование php js html css mysql и др.\n",
       "8296    сетевой и системный администратор опыт администрирование домен active directory от 3 год глубокий знание домен active directory групповой политик администрирование работа c многодоменной структура администрирование mssql сервер администрирование vmware horizon понимание принцип работа клиент серверный архитектура 1с тонкий настройка сервер 1с понимание принцип лицензирование 1c. глубокий опыт работа с система электронный отчётность такском рефернт и астрал опыт запуск и администрирование почтовый сервер ms exchange 2016/2019 администрирование локальный сеть предприятие обслуживание оргтехники предприятие и поддержание складской запас расходный материал для оргтехника обслуживание парк компьютер установка переустановка мелкий ремонт замена блок организация новый рабочий место по запрос руководитель опыт работа с система тонкий клиент hp первоначальный настройка предустановленный образ базовый помощь сотрудник по работа с оборудование тонкий клиент опыт работа с ip телефония настройка телефонный аппарат шлюз опыт настройка оборудование mikrotik опыт настройка сетевой коммутатор l2/3 dlink qtech и подобный опыт работа с система скуд видеонаблюдения опыт работа с сайт администрирование наполнение конфигурация настройка и администрирование сервер персональный компьютер и периферийный устройство поддержка локальной̆ lan глобальной̆ wan и телефонной̆ сетей̆ инсталляция настройка обновление операционный система прочего программный обеспечение включая антивирусный резервный копирование и восстановление данных обеспечение информационной̆ безопасность система участие в закупка оборудование комплектующих и программный обеспечение ведение технической̆ документация консультирование пользователей̆ координация закупка оборудование\n",
       "Name: cleaned_text, dtype: object"
      ]
     },
     "execution_count": 457,
     "metadata": {},
     "output_type": "execute_result"
    }
   ],
   "source": [
    "k = 3\n",
    "topk = np.argsort(similarity_scores_bert[i])[-k:]\n",
    "df['cleaned_text'][topk]"
   ]
  },
  {
   "cell_type": "markdown",
   "id": "27b50c52",
   "metadata": {},
   "source": [
    "## distiluse-base-multilingual-cased-v1"
   ]
  },
  {
   "cell_type": "code",
   "execution_count": 25,
   "id": "a1db3025",
   "metadata": {
    "ExecuteTime": {
     "end_time": "2023-12-23T14:21:50.041960368Z",
     "start_time": "2023-12-23T14:12:22.131002011Z"
    }
   },
   "outputs": [
    {
     "data": {
      "text/plain": ".gitattributes:   0%|          | 0.00/690 [00:00<?, ?B/s]",
      "application/vnd.jupyter.widget-view+json": {
       "version_major": 2,
       "version_minor": 0,
       "model_id": "2aedd24d26a440d38bc36bb44ded079c"
      }
     },
     "metadata": {},
     "output_type": "display_data"
    },
    {
     "data": {
      "text/plain": "1_Pooling/config.json:   0%|          | 0.00/190 [00:00<?, ?B/s]",
      "application/vnd.jupyter.widget-view+json": {
       "version_major": 2,
       "version_minor": 0,
       "model_id": "74caa01031bf4591a112111bbdabc81d"
      }
     },
     "metadata": {},
     "output_type": "display_data"
    },
    {
     "data": {
      "text/plain": "2_Dense/config.json:   0%|          | 0.00/114 [00:00<?, ?B/s]",
      "application/vnd.jupyter.widget-view+json": {
       "version_major": 2,
       "version_minor": 0,
       "model_id": "a988a28be9b640f5a62f68270378be86"
      }
     },
     "metadata": {},
     "output_type": "display_data"
    },
    {
     "data": {
      "text/plain": "pytorch_model.bin:   0%|          | 0.00/1.58M [00:00<?, ?B/s]",
      "application/vnd.jupyter.widget-view+json": {
       "version_major": 2,
       "version_minor": 0,
       "model_id": "f88f0ff4cfa34f13a3505d4058bdb7c4"
      }
     },
     "metadata": {},
     "output_type": "display_data"
    },
    {
     "data": {
      "text/plain": "README.md:   0%|          | 0.00/2.45k [00:00<?, ?B/s]",
      "application/vnd.jupyter.widget-view+json": {
       "version_major": 2,
       "version_minor": 0,
       "model_id": "812456bde52742be91043ecc4916fa8f"
      }
     },
     "metadata": {},
     "output_type": "display_data"
    },
    {
     "data": {
      "text/plain": "config.json:   0%|          | 0.00/556 [00:00<?, ?B/s]",
      "application/vnd.jupyter.widget-view+json": {
       "version_major": 2,
       "version_minor": 0,
       "model_id": "4594ff6b4e88480fa12b50e04d65b39a"
      }
     },
     "metadata": {},
     "output_type": "display_data"
    },
    {
     "data": {
      "text/plain": "config_sentence_transformers.json:   0%|          | 0.00/122 [00:00<?, ?B/s]",
      "application/vnd.jupyter.widget-view+json": {
       "version_major": 2,
       "version_minor": 0,
       "model_id": "917bd2e44cc344ee803cdc6e617f7758"
      }
     },
     "metadata": {},
     "output_type": "display_data"
    },
    {
     "data": {
      "text/plain": "pytorch_model.bin:   0%|          | 0.00/539M [00:00<?, ?B/s]",
      "application/vnd.jupyter.widget-view+json": {
       "version_major": 2,
       "version_minor": 0,
       "model_id": "ce26bcf715a546799fc7175813679b8c"
      }
     },
     "metadata": {},
     "output_type": "display_data"
    },
    {
     "data": {
      "text/plain": "sentence_bert_config.json:   0%|          | 0.00/53.0 [00:00<?, ?B/s]",
      "application/vnd.jupyter.widget-view+json": {
       "version_major": 2,
       "version_minor": 0,
       "model_id": "4f5037eee86041e5a53940b8169178c6"
      }
     },
     "metadata": {},
     "output_type": "display_data"
    },
    {
     "data": {
      "text/plain": "special_tokens_map.json:   0%|          | 0.00/112 [00:00<?, ?B/s]",
      "application/vnd.jupyter.widget-view+json": {
       "version_major": 2,
       "version_minor": 0,
       "model_id": "850552014291458591a68ca98abf961d"
      }
     },
     "metadata": {},
     "output_type": "display_data"
    },
    {
     "data": {
      "text/plain": "tokenizer.json:   0%|          | 0.00/1.96M [00:00<?, ?B/s]",
      "application/vnd.jupyter.widget-view+json": {
       "version_major": 2,
       "version_minor": 0,
       "model_id": "c9b83f97eb904357a9084888993175e9"
      }
     },
     "metadata": {},
     "output_type": "display_data"
    },
    {
     "data": {
      "text/plain": "tokenizer_config.json:   0%|          | 0.00/452 [00:00<?, ?B/s]",
      "application/vnd.jupyter.widget-view+json": {
       "version_major": 2,
       "version_minor": 0,
       "model_id": "c2f40d916e6b4c1484b7876123377698"
      }
     },
     "metadata": {},
     "output_type": "display_data"
    },
    {
     "data": {
      "text/plain": "vocab.txt:   0%|          | 0.00/996k [00:00<?, ?B/s]",
      "application/vnd.jupyter.widget-view+json": {
       "version_major": 2,
       "version_minor": 0,
       "model_id": "427dc4b678034e85b1d26eb73b0be6c3"
      }
     },
     "metadata": {},
     "output_type": "display_data"
    },
    {
     "data": {
      "text/plain": "modules.json:   0%|          | 0.00/341 [00:00<?, ?B/s]",
      "application/vnd.jupyter.widget-view+json": {
       "version_major": 2,
       "version_minor": 0,
       "model_id": "63afac258fc64c099afd4b4e84a214c4"
      }
     },
     "metadata": {},
     "output_type": "display_data"
    }
   ],
   "source": [
    "from sentence_transformers import SentenceTransformer\n",
    "model = SentenceTransformer('distiluse-base-multilingual-cased-v1')\n",
    "\n",
    "distiluse_cv = model.encode(cv_corpus)\n",
    "distiluse_vacancy = model.encode(vacancy_corpus)"
   ]
  },
  {
   "cell_type": "code",
   "outputs": [],
   "source": [
    "np.save(\"../data/data_vectors/cv_distiluse\", distiluse_cv)\n",
    "np.save(\"../data/data_vectors/vacancy_distiluse\", distiluse_vacancy)"
   ],
   "metadata": {
    "collapsed": false,
    "ExecuteTime": {
     "end_time": "2023-12-23T14:26:32.536222908Z",
     "start_time": "2023-12-23T14:26:32.509932287Z"
    }
   },
   "id": "1279a053aed1fc9",
   "execution_count": 26
  },
  {
   "cell_type": "code",
   "execution_count": 112,
   "id": "c39ea175",
   "metadata": {},
   "outputs": [],
   "source": [
    "from sklearn.metrics.pairwise import cosine_similarity\n",
    "similarity_scores_distiluse = cosine_similarity(distiluse_cv, distiluse_vacancy)"
   ]
  },
  {
   "cell_type": "code",
   "execution_count": 115,
   "id": "36bf142f",
   "metadata": {
    "scrolled": true
   },
   "outputs": [
    {
     "data": {
      "text/plain": [
       "2580                                                                                                                                                                                                                                                                                                                                                                                                                                                                                                                                                                                                                                                                                                                                                                                                                                                                                                                                                                                                                                                                                                                                                                                                                                                                                                   диспетчер центр управление сеть оперативный диспетчерский группа служба уверенный знание пк и работа с офисный техника вежливость умение работать в коллектив дисциплинированность обучаемость стрессоустойчивость приём и фиксирование в журнал от население и организация сообщение о любой чрезвычайный происшествие -незамедлительное доведение информация до старший диспетчер руководитель оповещение коммунальный служба о возникновение чрезвычайный ситуация уверенный пользователь пк и офисный техника\n",
       "8345                                                                                                                                                                                                                                                                                                                                                                                                                                                                                                                                                                                                                                                                                                                                                                                                                                                                                                                                                                                                                                                                                                                                                                                                                                                         администратор вычислительный сеть опыт администрирование линейка windows ad ts gpo rdp dhcp dns ms sql 1c опыт настройка локальный сеть сетевой оборудование знание основа прокладка лвс удалить доступ администрирование windows администрирование инфраструктура windows ad ts gpo rdp dhcp dns ms sql 1c администрирование система виртуализации ms hyper v обеспечение работа активный сетевой оборудование корпоративный антивирусный система создание архивный копия мониторинг инфраструктура компания организация доступ удалённый пользователь vpn\n",
       "8296    сетевой и системный администратор опыт администрирование домен active directory от 3 год глубокий знание домен active directory групповой политик администрирование работа c многодоменной структура администрирование mssql сервер администрирование vmware horizon понимание принцип работа клиент серверный архитектура 1с тонкий настройка сервер 1с понимание принцип лицензирование 1c. глубокий опыт работа с система электронный отчётность такском рефернт и астрал опыт запуск и администрирование почтовый сервер ms exchange 2016/2019 администрирование локальный сеть предприятие обслуживание оргтехники предприятие и поддержание складской запас расходный материал для оргтехника обслуживание парк компьютер установка переустановка мелкий ремонт замена блок организация новый рабочий место по запрос руководитель опыт работа с система тонкий клиент hp первоначальный настройка предустановленный образ базовый помощь сотрудник по работа с оборудование тонкий клиент опыт работа с ip телефония настройка телефонный аппарат шлюз опыт настройка оборудование mikrotik опыт настройка сетевой коммутатор l2/3 dlink qtech и подобный опыт работа с система скуд видеонаблюдения опыт работа с сайт администрирование наполнение конфигурация настройка и администрирование сервер персональный компьютер и периферийный устройство поддержка локальной̆ lan глобальной̆ wan и телефонной̆ сетей̆ инсталляция настройка обновление операционный система прочего программный обеспечение включая антивирусный резервный копирование и восстановление данных обеспечение информационной̆ безопасность система участие в закупка оборудование комплектующих и программный обеспечение ведение технической̆ документация консультирование пользователей̆ координация закупка оборудование\n",
       "Name: cleaned_text, dtype: object"
      ]
     },
     "execution_count": 115,
     "metadata": {},
     "output_type": "execute_result"
    }
   ],
   "source": [
    "k = 3\n",
    "i = 1000\n",
    "topk = np.argsort(similarity_scores_distiluse[i])[-k:]\n",
    "df['cleaned_text'][topk]"
   ]
  },
  {
   "cell_type": "code",
   "execution_count": 116,
   "id": "3983a7f4",
   "metadata": {},
   "outputs": [],
   "source": [
    "similarity_df_distiluse = pd.DataFrame(similarity_scores_distiluse)\n",
    "similarity_df_distiluse.to_csv('distiluse_similarity_scores.csv', index=False)"
   ]
  },
  {
   "cell_type": "markdown",
   "id": "a02f11ee",
   "metadata": {},
   "source": [
    "## distiluse-base-multilingual-cased-v1"
   ]
  },
  {
   "cell_type": "code",
   "execution_count": 27,
   "id": "e1763be0",
   "metadata": {
    "ExecuteTime": {
     "end_time": "2023-12-23T14:32:18.142493463Z",
     "start_time": "2023-12-23T14:26:49.191579167Z"
    }
   },
   "outputs": [
    {
     "data": {
      "text/plain": ".gitattributes:   0%|          | 0.00/968 [00:00<?, ?B/s]",
      "application/vnd.jupyter.widget-view+json": {
       "version_major": 2,
       "version_minor": 0,
       "model_id": "8779687b332e416f8d634e45ce87f2b0"
      }
     },
     "metadata": {},
     "output_type": "display_data"
    },
    {
     "data": {
      "text/plain": "1_Pooling/config.json:   0%|          | 0.00/190 [00:00<?, ?B/s]",
      "application/vnd.jupyter.widget-view+json": {
       "version_major": 2,
       "version_minor": 0,
       "model_id": "871b95dccb144b719290d436ffacccbd"
      }
     },
     "metadata": {},
     "output_type": "display_data"
    },
    {
     "data": {
      "text/plain": "README.md:   0%|          | 0.00/4.09k [00:00<?, ?B/s]",
      "application/vnd.jupyter.widget-view+json": {
       "version_major": 2,
       "version_minor": 0,
       "model_id": "68c0de6e4e114555b733b7e70d3209b3"
      }
     },
     "metadata": {},
     "output_type": "display_data"
    },
    {
     "data": {
      "text/plain": "config.json:   0%|          | 0.00/645 [00:00<?, ?B/s]",
      "application/vnd.jupyter.widget-view+json": {
       "version_major": 2,
       "version_minor": 0,
       "model_id": "e12d26a221484286b747a847da79822f"
      }
     },
     "metadata": {},
     "output_type": "display_data"
    },
    {
     "data": {
      "text/plain": "config_sentence_transformers.json:   0%|          | 0.00/122 [00:00<?, ?B/s]",
      "application/vnd.jupyter.widget-view+json": {
       "version_major": 2,
       "version_minor": 0,
       "model_id": "a9aced57c2994d44a0dd637381a344dc"
      }
     },
     "metadata": {},
     "output_type": "display_data"
    },
    {
     "data": {
      "text/plain": "pytorch_model.bin:   0%|          | 0.00/471M [00:00<?, ?B/s]",
      "application/vnd.jupyter.widget-view+json": {
       "version_major": 2,
       "version_minor": 0,
       "model_id": "32ab4ac1a2224acbb0655ed37d41954b"
      }
     },
     "metadata": {},
     "output_type": "display_data"
    },
    {
     "data": {
      "text/plain": "sentence_bert_config.json:   0%|          | 0.00/53.0 [00:00<?, ?B/s]",
      "application/vnd.jupyter.widget-view+json": {
       "version_major": 2,
       "version_minor": 0,
       "model_id": "7444f3b4f8e04ca78baf4b6766a509c1"
      }
     },
     "metadata": {},
     "output_type": "display_data"
    },
    {
     "data": {
      "text/plain": "sentencepiece.bpe.model:   0%|          | 0.00/5.07M [00:00<?, ?B/s]",
      "application/vnd.jupyter.widget-view+json": {
       "version_major": 2,
       "version_minor": 0,
       "model_id": "2be48a3f20f4475ba10845d26410e02e"
      }
     },
     "metadata": {},
     "output_type": "display_data"
    },
    {
     "data": {
      "text/plain": "special_tokens_map.json:   0%|          | 0.00/239 [00:00<?, ?B/s]",
      "application/vnd.jupyter.widget-view+json": {
       "version_major": 2,
       "version_minor": 0,
       "model_id": "890d55613bc44744953363fefc8d77bb"
      }
     },
     "metadata": {},
     "output_type": "display_data"
    },
    {
     "data": {
      "text/plain": "tokenizer.json:   0%|          | 0.00/9.08M [00:00<?, ?B/s]",
      "application/vnd.jupyter.widget-view+json": {
       "version_major": 2,
       "version_minor": 0,
       "model_id": "3432b5d21330484995ed2aeebd9f6037"
      }
     },
     "metadata": {},
     "output_type": "display_data"
    },
    {
     "data": {
      "text/plain": "tokenizer_config.json:   0%|          | 0.00/480 [00:00<?, ?B/s]",
      "application/vnd.jupyter.widget-view+json": {
       "version_major": 2,
       "version_minor": 0,
       "model_id": "73bf1861a73943d6966a52182cc233ab"
      }
     },
     "metadata": {},
     "output_type": "display_data"
    },
    {
     "data": {
      "text/plain": "unigram.json:   0%|          | 0.00/14.8M [00:00<?, ?B/s]",
      "application/vnd.jupyter.widget-view+json": {
       "version_major": 2,
       "version_minor": 0,
       "model_id": "bf169056286d4676ab6f0c6548542a8f"
      }
     },
     "metadata": {},
     "output_type": "display_data"
    },
    {
     "data": {
      "text/plain": "modules.json:   0%|          | 0.00/229 [00:00<?, ?B/s]",
      "application/vnd.jupyter.widget-view+json": {
       "version_major": 2,
       "version_minor": 0,
       "model_id": "562d87cb574a4dfb82e6f769985e7e66"
      }
     },
     "metadata": {},
     "output_type": "display_data"
    }
   ],
   "source": [
    "from sentence_transformers import SentenceTransformer\n",
    "model = SentenceTransformer('paraphrase-multilingual-MiniLM-L12-v2')\n",
    "\n",
    "miniLM_cv = model.encode(cv_corpus)\n",
    "miniLM_vacancy = model.encode(vacancy_corpus)"
   ]
  },
  {
   "cell_type": "code",
   "outputs": [],
   "source": [
    "np.save(\"../data/data_vectors/cv_miniLM\", miniLM_cv)\n",
    "np.save(\"../data/data_vectors/vacancy_miniLM\", miniLM_vacancy)"
   ],
   "metadata": {
    "collapsed": false,
    "ExecuteTime": {
     "end_time": "2023-12-23T14:35:43.040520227Z",
     "start_time": "2023-12-23T14:35:43.015409702Z"
    }
   },
   "id": "1ef8938cf11aba5d",
   "execution_count": 28
  },
  {
   "cell_type": "code",
   "execution_count": 118,
   "id": "b44a7366",
   "metadata": {},
   "outputs": [],
   "source": [
    "from sklearn.metrics.pairwise import cosine_similarity\n",
    "similarity_scores_miniLM = cosine_similarity(miniLM_cv, miniLM_vacancy)"
   ]
  },
  {
   "cell_type": "code",
   "execution_count": 119,
   "id": "8f355302",
   "metadata": {
    "scrolled": true
   },
   "outputs": [
    {
     "data": {
      "text/plain": [
       "7408                                                                                                                                                                                                                                                                                                                                                                                                                                                                                                                                                                                                                                                                                                                                                                                                                                                                                                                                                                                                                                                                                                                                 ведущий специалист владение компьютер на уровень уверенный пользователь коммуникабельность доброжелательность стрессоустойчивость оформление и выдача полис обязательный медицинский страхование представительство в поликлиника г. кисловосдка внимательность коммуникабельность уверенный пользователь компьютер уверенный пользователь пк и офисный программа\n",
       "7980    специалист 1 категория ооэасу личностный качество коммуникабельность нацеленность на результат способность к конструктивный диалог многозадачность и стрессоустойчивость знание программный и технический средство операционный система ms windows архитектура персональный компьютер серверный программный обеспечение ms windows приложение active directory кластеризация сервис виртуализация сеть передача данных сеть передача голос ms sql server ms internet information server управление инцидент 1 контроль работоспособность обеспечение надёжный и бесперебойный работа оперативный обслуживание программный аппаратный комплекс и технический средство информационный технология 2 мониторинг работоспособность канал связь и передача данных средство диспетчерско технологический управление 3 диагностика и своевременный выявление отказавших элемент самостоятельный восстановление работоспособность отказать программный аппаратный комплекс и технический средство информационный технология переход к использование резервный технология 4 регистрация обращение работник организация по вопрос функционирование программный аппаратный комплекс и технический средство информационный технология 5 изменение параметр сеть связь производство переключение канал связь 6 контроль и проведение регламентный и профилактический работа на программный аппаратный комплекс и технический средство информационный технология в соответствие с они регламент эксплуатация\n",
       "8345                                                                                                                                                                                                                                                                                                                                                                                                                                                                                                                                                                                                                                                                                                                                                                                                                                                                                                                                      администратор вычислительный сеть опыт администрирование линейка windows ad ts gpo rdp dhcp dns ms sql 1c опыт настройка локальный сеть сетевой оборудование знание основа прокладка лвс удалить доступ администрирование windows администрирование инфраструктура windows ad ts gpo rdp dhcp dns ms sql 1c администрирование система виртуализации ms hyper v обеспечение работа активный сетевой оборудование корпоративный антивирусный система создание архивный копия мониторинг инфраструктура компания организация доступ удалённый пользователь vpn\n",
       "Name: cleaned_text, dtype: object"
      ]
     },
     "execution_count": 119,
     "metadata": {},
     "output_type": "execute_result"
    }
   ],
   "source": [
    "k = 3\n",
    "i = 1000\n",
    "topk = np.argsort(similarity_scores_miniLM[i])[-k:]\n",
    "df['cleaned_text'][topk]"
   ]
  },
  {
   "cell_type": "code",
   "execution_count": 120,
   "id": "05239fbe",
   "metadata": {},
   "outputs": [],
   "source": [
    "similarity_df_miniLM = pd.DataFrame(similarity_scores_miniLM)\n",
    "similarity_df_miniLM.to_csv('miniLM_similarity_scores.csv', index=False)"
   ]
  }
 ],
 "metadata": {
  "kernelspec": {
   "display_name": "Python 3 (ipykernel)",
   "language": "python",
   "name": "python3"
  },
  "language_info": {
   "codemirror_mode": {
    "name": "ipython",
    "version": 3
   },
   "file_extension": ".py",
   "mimetype": "text/x-python",
   "name": "python",
   "nbconvert_exporter": "python",
   "pygments_lexer": "ipython3",
   "version": "3.11.5"
  }
 },
 "nbformat": 4,
 "nbformat_minor": 5
}
